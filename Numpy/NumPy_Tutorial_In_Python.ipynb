{
  "nbformat": 4,
  "nbformat_minor": 0,
  "metadata": {
    "colab": {
      "provenance": [],
      "collapsed_sections": [
        "XonGmO99Se3a",
        "ktRavFgufg7o",
        "pByGQ2KlhSiR",
        "3jurF2lPm34U",
        "emottf0BomFH",
        "0YAA_T5s0_AE",
        "-5MdsXPS1eH4",
        "PqiF31hz20jz",
        "ycG0CbiS6LvD",
        "TH-lP3BE6_AO",
        "nMoNS5zLHmfE",
        "N98s7SnHWN_2"
      ],
      "toc_visible": true,
      "include_colab_link": true
    },
    "kernelspec": {
      "name": "python3",
      "display_name": "Python 3"
    },
    "language_info": {
      "name": "python"
    }
  },
  "cells": [
    {
      "cell_type": "markdown",
      "metadata": {
        "id": "view-in-github",
        "colab_type": "text"
      },
      "source": [
        "<a href=\"https://colab.research.google.com/github/Mohammad-sadik/Daily_codes/blob/main/Numpy/NumPy_Tutorial_In_Python.ipynb\" target=\"_parent\"><img src=\"https://colab.research.google.com/assets/colab-badge.svg\" alt=\"Open In Colab\"/></a>"
      ]
    },
    {
      "cell_type": "code",
      "execution_count": 5,
      "metadata": {
        "id": "xrrR6RALL1i2"
      },
      "outputs": [],
      "source": [
        "import numpy as np"
      ]
    },
    {
      "cell_type": "markdown",
      "source": [
        "## List vs NumPy - Performance Comparison (Time Taken)"
      ],
      "metadata": {
        "id": "XonGmO99Se3a"
      }
    },
    {
      "cell_type": "code",
      "source": [
        "from time import process_time"
      ],
      "metadata": {
        "id": "dIOqtKbXSx59"
      },
      "execution_count": 1,
      "outputs": []
    },
    {
      "cell_type": "markdown",
      "source": [
        "We first create a list and record its processing time. Then, we perform a mathematical operation on the list and record its timing again. This helps us determine how much time is required for that mathematical operation."
      ],
      "metadata": {
        "id": "OLgO-Ub_bZ9o"
      }
    },
    {
      "cell_type": "code",
      "source": [
        "python_list =[i for i in range(10000)]\n",
        "start_time = process_time()\n",
        "python_list = [i+5 for i in python_list]\n",
        "end_time = process_time()\n",
        "execution_time = end_time - start_time\n",
        "print(execution_time)"
      ],
      "metadata": {
        "colab": {
          "base_uri": "https://localhost:8080/"
        },
        "id": "FxVpSm7uSSs_",
        "outputId": "74033213-52ed-4e77-f4e9-757e29f171c0"
      },
      "execution_count": 4,
      "outputs": [
        {
          "output_type": "stream",
          "name": "stdout",
          "text": [
            "0.0010955500000000562\n"
          ]
        }
      ]
    },
    {
      "cell_type": "code",
      "source": [
        "np_array = np.array([i for i in range(10000)])\n",
        "start_time = process_time()\n",
        "np_array +=5\n",
        "end_time = process_time()\n",
        "execution_time = end_time - start_time\n",
        "print(execution_time)\n"
      ],
      "metadata": {
        "colab": {
          "base_uri": "https://localhost:8080/"
        },
        "id": "RPwsDZSvbklQ",
        "outputId": "57ffe9c0-f440-4058-b94c-9c8e4cf99e1b"
      },
      "execution_count": 6,
      "outputs": [
        {
          "output_type": "stream",
          "name": "stdout",
          "text": [
            "0.0003823899999999547\n"
          ]
        }
      ]
    },
    {
      "cell_type": "markdown",
      "source": [
        "**Observation:** NumPy arrays perform operations significantly faster than Python lists due to optimized memory and vectorized operations."
      ],
      "metadata": {
        "id": "uQAxDqfmfJaH"
      }
    },
    {
      "cell_type": "markdown",
      "source": [
        "##Creating Numpy arrays and convert a list to a NumPy array"
      ],
      "metadata": {
        "id": "ktRavFgufg7o"
      }
    },
    {
      "cell_type": "code",
      "source": [
        "#List\n",
        "list1 = [1,2,3,4,5]\n",
        "print(list1)\n",
        "type(list1)"
      ],
      "metadata": {
        "colab": {
          "base_uri": "https://localhost:8080/"
        },
        "id": "1vxAUUIWflLc",
        "outputId": "c7989d9b-ee73-4194-f0ca-ba0d9d4cd78b"
      },
      "execution_count": 7,
      "outputs": [
        {
          "output_type": "stream",
          "name": "stdout",
          "text": [
            "[1, 2, 3, 4, 5]\n"
          ]
        },
        {
          "output_type": "execute_result",
          "data": {
            "text/plain": [
              "list"
            ]
          },
          "metadata": {},
          "execution_count": 7
        }
      ]
    },
    {
      "cell_type": "code",
      "source": [
        "np_array = np.array([1,2,3,4,5])\n",
        "print(np_array)\n",
        "type(np_array)"
      ],
      "metadata": {
        "colab": {
          "base_uri": "https://localhost:8080/"
        },
        "id": "USTHhq1KgNut",
        "outputId": "02e995b2-c12c-48cb-ec39-16a876f37db9"
      },
      "execution_count": 9,
      "outputs": [
        {
          "output_type": "stream",
          "name": "stdout",
          "text": [
            "[1 2 3 4 5]\n"
          ]
        },
        {
          "output_type": "execute_result",
          "data": {
            "text/plain": [
              "numpy.ndarray"
            ]
          },
          "metadata": {},
          "execution_count": 9
        }
      ]
    },
    {
      "cell_type": "code",
      "source": [
        "list2=[1,2,3,4,5]\n",
        "np_array = np.asarray(list2)\n",
        "print(np_array)\n",
        "print(type(np_array))\n",
        "print(np_array.dtype)"
      ],
      "metadata": {
        "colab": {
          "base_uri": "https://localhost:8080/"
        },
        "id": "L6qG0Weyysav",
        "outputId": "3a54f209-c2b1-4b94-f00d-08548a5f477e"
      },
      "execution_count": 10,
      "outputs": [
        {
          "output_type": "stream",
          "name": "stdout",
          "text": [
            "[1 2 3 4 5]\n",
            "<class 'numpy.ndarray'>\n",
            "int64\n"
          ]
        }
      ]
    },
    {
      "cell_type": "markdown",
      "source": [
        "##Creating 1D and 2D arrays\n",
        "\n"
      ],
      "metadata": {
        "id": "pByGQ2KlhSiR"
      }
    },
    {
      "cell_type": "markdown",
      "source": [
        "###1D Array (One-Dimensional Array)\n",
        "\n",
        "A 1D array is like a list of elements.\n",
        "\n",
        "It has only one axis (row or column)."
      ],
      "metadata": {
        "id": "_SvWNCLDi3XG"
      }
    },
    {
      "cell_type": "code",
      "source": [
        "\n",
        "a = np.array([1,2,3,4])\n",
        "print(a)\n",
        "a.shape #(4,) (only one dimension)"
      ],
      "metadata": {
        "colab": {
          "base_uri": "https://localhost:8080/"
        },
        "id": "juHpxlWwhYQS",
        "outputId": "1ba101fb-f637-4901-920f-520b4570d8fb"
      },
      "execution_count": 11,
      "outputs": [
        {
          "output_type": "stream",
          "name": "stdout",
          "text": [
            "[1 2 3 4]\n"
          ]
        },
        {
          "output_type": "execute_result",
          "data": {
            "text/plain": [
              "(4,)"
            ]
          },
          "metadata": {},
          "execution_count": 11
        }
      ]
    },
    {
      "cell_type": "markdown",
      "source": [
        "###2D Array (Two-Dimensional Array)\n",
        "A 2D array is like a table or a matrix (rows and columns).\n",
        "\n",
        "It has two axes (rows and columns)."
      ],
      "metadata": {
        "id": "yzYoSfOijRMX"
      }
    },
    {
      "cell_type": "code",
      "source": [
        "b = np.array(([1,2,3,4],[4,5,6,7],[8, 9, 10, 11]))\n",
        "print(b)\n",
        "b.shape #(2 rows,3 columns)"
      ],
      "metadata": {
        "colab": {
          "base_uri": "https://localhost:8080/"
        },
        "id": "ZlYO2RAijZHZ",
        "outputId": "728faf6f-197e-4019-ac55-bd213e2e06ad"
      },
      "execution_count": 12,
      "outputs": [
        {
          "output_type": "stream",
          "name": "stdout",
          "text": [
            "[[ 1  2  3  4]\n",
            " [ 4  5  6  7]\n",
            " [ 8  9 10 11]]\n"
          ]
        },
        {
          "output_type": "execute_result",
          "data": {
            "text/plain": [
              "(3, 4)"
            ]
          },
          "metadata": {},
          "execution_count": 12
        }
      ]
    },
    {
      "cell_type": "markdown",
      "source": [
        "###Put values in floating points"
      ],
      "metadata": {
        "id": "5GlfZVDTl-Ol"
      }
    },
    {
      "cell_type": "code",
      "source": [
        "c = np.array(([1,2,3,4],[4,5,6,7]), dtype=float)\n",
        "print(c)\n",
        "c.shape #(2 rows,3 columns)"
      ],
      "metadata": {
        "colab": {
          "base_uri": "https://localhost:8080/"
        },
        "id": "E3ya3ligloD8",
        "outputId": "7de97c40-968a-4847-bd36-7f38fab85836"
      },
      "execution_count": null,
      "outputs": [
        {
          "output_type": "stream",
          "name": "stdout",
          "text": [
            "[[1. 2. 3. 4.]\n",
            " [4. 5. 6. 7.]]\n"
          ]
        },
        {
          "output_type": "execute_result",
          "data": {
            "text/plain": [
              "(2, 4)"
            ]
          },
          "metadata": {},
          "execution_count": 33
        }
      ]
    },
    {
      "cell_type": "markdown",
      "source": [
        "###3D Array (Two-Dimensional Array)"
      ],
      "metadata": {
        "id": "SU6pUCvs4kmB"
      }
    },
    {
      "cell_type": "code",
      "source": [
        "d = np.array([[[1,2,3,4],[4,5,6,7]],[[8,9,10,11],[12,13,14,15]]])\n",
        "print(d)\n",
        "d.shape"
      ],
      "metadata": {
        "id": "UYtg67aK43O9",
        "outputId": "d0cc61ae-2264-4eee-8d8e-bb7ab1b7625c",
        "colab": {
          "base_uri": "https://localhost:8080/"
        }
      },
      "execution_count": 13,
      "outputs": [
        {
          "output_type": "stream",
          "name": "stdout",
          "text": [
            "[[[ 1  2  3  4]\n",
            "  [ 4  5  6  7]]\n",
            "\n",
            " [[ 8  9 10 11]\n",
            "  [12 13 14 15]]]\n"
          ]
        },
        {
          "output_type": "execute_result",
          "data": {
            "text/plain": [
              "(2, 2, 4)"
            ]
          },
          "metadata": {},
          "execution_count": 13
        }
      ]
    },
    {
      "cell_type": "markdown",
      "source": [
        "##Initial Placeholders in NumPy"
      ],
      "metadata": {
        "id": "3jurF2lPm34U"
      }
    },
    {
      "cell_type": "markdown",
      "source": [
        "###1. Creating an Array of Zeros (np.zeros())\n",
        "\n",
        "Creates an array filled with zeros."
      ],
      "metadata": {
        "id": "emottf0BomFH"
      }
    },
    {
      "cell_type": "code",
      "source": [
        "a = np.zeros((3,3))\n",
        "print(a)\n",
        "type(a)\n",
        "print(a.dtype)"
      ],
      "metadata": {
        "colab": {
          "base_uri": "https://localhost:8080/"
        },
        "id": "w7bOCCvjoleY",
        "outputId": "ad2e77aa-7a07-4cd5-b663-3c10d254bfb9"
      },
      "execution_count": null,
      "outputs": [
        {
          "output_type": "stream",
          "name": "stdout",
          "text": [
            "[[0. 0. 0.]\n",
            " [0. 0. 0.]\n",
            " [0. 0. 0.]]\n",
            "float64\n"
          ]
        }
      ]
    },
    {
      "cell_type": "markdown",
      "source": [],
      "metadata": {
        "id": "b5kcXn83lnpu"
      }
    },
    {
      "cell_type": "markdown",
      "source": [
        "###2. Creating an Array of Ones (np.ones())\n",
        "Creates an array filled with ones."
      ],
      "metadata": {
        "id": "XkPGxMvLp8xX"
      }
    },
    {
      "cell_type": "code",
      "source": [
        "b = np.ones((3,3))\n",
        "print(b)"
      ],
      "metadata": {
        "colab": {
          "base_uri": "https://localhost:8080/"
        },
        "id": "LBsHf2lEqHRl",
        "outputId": "93cda32c-f573-4365-ae1c-0a7e0eca8788"
      },
      "execution_count": null,
      "outputs": [
        {
          "output_type": "stream",
          "name": "stdout",
          "text": [
            "[[1. 1. 1.]\n",
            " [1. 1. 1.]\n",
            " [1. 1. 1.]]\n"
          ]
        }
      ]
    },
    {
      "cell_type": "markdown",
      "source": [
        "###3. Creating an Array with a Constant Value (np.full())\n",
        "Creates an array with a specific constant value."
      ],
      "metadata": {
        "id": "DcSk_Bumrbzn"
      }
    },
    {
      "cell_type": "code",
      "source": [
        "c = np.full((3,3),2, dtype=float)\n",
        "print(c)"
      ],
      "metadata": {
        "colab": {
          "base_uri": "https://localhost:8080/"
        },
        "id": "zPLKYOXHrgkj",
        "outputId": "18ef07a9-582b-4d7b-c327-7a0c95c13815"
      },
      "execution_count": null,
      "outputs": [
        {
          "output_type": "stream",
          "name": "stdout",
          "text": [
            "[[2. 2. 2.]\n",
            " [2. 2. 2.]\n",
            " [2. 2. 2.]]\n"
          ]
        }
      ]
    },
    {
      "cell_type": "markdown",
      "source": [
        "###4. Creating an Identity Matrix (np.eye())\n",
        "Creates a square identity matrix (diagonal elements = 1, others = 0).*italicized text*"
      ],
      "metadata": {
        "id": "nj2LGK-7sDKK"
      }
    },
    {
      "cell_type": "code",
      "source": [
        "d = np.eye(3)\n",
        "print(d)"
      ],
      "metadata": {
        "colab": {
          "base_uri": "https://localhost:8080/"
        },
        "id": "Se1DLUoZsMx8",
        "outputId": "22c32ed9-47bd-4d88-a837-9cc4e66dcb0b"
      },
      "execution_count": null,
      "outputs": [
        {
          "output_type": "stream",
          "name": "stdout",
          "text": [
            "[[1. 0. 0.]\n",
            " [0. 1. 0.]\n",
            " [0. 0. 1.]]\n"
          ]
        }
      ]
    },
    {
      "cell_type": "markdown",
      "source": [
        "###5. Creating a Linearly Spaced Array (np.linspace())\n",
        "Creates an array with evenly spaced values.\n",
        "\n",
        "np.linspace(start, stop, num) (Based on Count)\n",
        "\n",
        "Generates a specific number of evenly spaced values between start and stop, inclusive.\n",
        "\n",
        "You specify how many values (num) you want."
      ],
      "metadata": {
        "id": "wGxmtDB2vZtM"
      }
    },
    {
      "cell_type": "code",
      "source": [
        "e = np.linspace(10,30,5)\n",
        "print(e)"
      ],
      "metadata": {
        "colab": {
          "base_uri": "https://localhost:8080/"
        },
        "id": "lWex6t9EvwGA",
        "outputId": "e61ed305-f2fd-4238-e2c2-e3276aa95d07"
      },
      "execution_count": null,
      "outputs": [
        {
          "output_type": "stream",
          "name": "stdout",
          "text": [
            "[10. 15. 20. 25. 30.]\n"
          ]
        }
      ]
    },
    {
      "cell_type": "markdown",
      "source": [
        "###6. Creating a Range of Values (np.arange())\n",
        "Creates an array with values in a range.\n",
        "\n",
        "np.arange(start, stop, step) (Based on Step Size)\n",
        "\n",
        "Generates values from start to less than stop, with a fixed step size (step).\n",
        "\n",
        "You specify the step size, not the number of elements."
      ],
      "metadata": {
        "id": "IcYe7xLDwQuF"
      }
    },
    {
      "cell_type": "code",
      "source": [
        "f = np.arange(10,30,5)\n",
        "print(f)"
      ],
      "metadata": {
        "colab": {
          "base_uri": "https://localhost:8080/"
        },
        "id": "L9IP66CWwrc8",
        "outputId": "f2c4c612-fb84-4bfa-c222-aa61b17f4af5"
      },
      "execution_count": null,
      "outputs": [
        {
          "output_type": "stream",
          "name": "stdout",
          "text": [
            "[10 15 20 25]\n"
          ]
        }
      ]
    },
    {
      "cell_type": "markdown",
      "source": [
        "##Create a NumPy array with random values\n"
      ],
      "metadata": {
        "id": "0YAA_T5s0_AE"
      }
    },
    {
      "cell_type": "markdown",
      "source": [
        "###Random integer values array within a specific range"
      ],
      "metadata": {
        "id": "-5MdsXPS1eH4"
      }
    },
    {
      "cell_type": "code",
      "source": [
        "x = np.random.random((3,3)) #value btw 0 and less than 1, also data type is float\n",
        "print(x)"
      ],
      "metadata": {
        "colab": {
          "base_uri": "https://localhost:8080/"
        },
        "id": "02ylg4s82RGQ",
        "outputId": "6377a366-a93e-48f9-d8bb-796d7e377b31"
      },
      "execution_count": null,
      "outputs": [
        {
          "output_type": "stream",
          "name": "stdout",
          "text": [
            "[[0.33906657 0.81063685 0.35310269]\n",
            " [0.23590516 0.17926631 0.6810071 ]\n",
            " [0.26076398 0.98784132 0.36075083]]\n"
          ]
        }
      ]
    },
    {
      "cell_type": "markdown",
      "source": [
        "###Random integer values array within a specific range"
      ],
      "metadata": {
        "id": "PqiF31hz20jz"
      }
    },
    {
      "cell_type": "code",
      "source": [
        "y = np.random.randint(10,100,(3,5))\n",
        "print(y)"
      ],
      "metadata": {
        "colab": {
          "base_uri": "https://localhost:8080/"
        },
        "id": "L9C6z2o83I8O",
        "outputId": "07896a3c-fb7b-4000-d6ad-8c0f56e62dd5"
      },
      "execution_count": null,
      "outputs": [
        {
          "output_type": "stream",
          "name": "stdout",
          "text": [
            "[[26 21 67 44 27]\n",
            " [69 61 87 31 40]\n",
            " [48 95 20 86 17]]\n"
          ]
        }
      ]
    },
    {
      "cell_type": "markdown",
      "source": [
        "##Analysing a NumPy array"
      ],
      "metadata": {
        "id": "ycG0CbiS6LvD"
      }
    },
    {
      "cell_type": "markdown",
      "source": [
        "###Create a NumPy array"
      ],
      "metadata": {
        "id": "qRArf7Q97ycy"
      }
    },
    {
      "cell_type": "code",
      "source": [
        "arr = np.array([[10, 20, 30], [40, 50, 60], [70, 80, 90]])"
      ],
      "metadata": {
        "id": "DtY3rhlW7nf-"
      },
      "execution_count": null,
      "outputs": []
    },
    {
      "cell_type": "markdown",
      "source": [
        "###Basic Information"
      ],
      "metadata": {
        "id": "zKCeKinK7r58"
      }
    },
    {
      "cell_type": "code",
      "source": [
        "print(\"Array:\\n\", arr)\n",
        "print(\"Shape:\", arr.shape)  # (rows, columns)\n",
        "print(\"Size:\", arr.size)  # Total elements\n",
        "print(\"Data Type:\", arr.dtype)  # Data type\n",
        "print(\"Dimensions:\", arr.ndim)  # Number of dimensions"
      ],
      "metadata": {
        "colab": {
          "base_uri": "https://localhost:8080/"
        },
        "id": "XoXMkEq65v7X",
        "outputId": "f80440f3-f038-489d-8d6e-ddbcad6c2942"
      },
      "execution_count": null,
      "outputs": [
        {
          "output_type": "stream",
          "name": "stdout",
          "text": [
            "Array:\n",
            " [[10 20 30]\n",
            " [40 50 60]\n",
            " [70 80 90]]\n",
            "Shape: (3, 3)\n",
            "Size: 9\n",
            "Data Type: int64\n",
            "Dimensions: 2\n"
          ]
        }
      ]
    },
    {
      "cell_type": "markdown",
      "source": [
        "###Statistical Analysis"
      ],
      "metadata": {
        "id": "TH-lP3BE6_AO"
      }
    },
    {
      "cell_type": "code",
      "source": [
        "print(\"Mean:\", np.mean(arr))\n",
        "print(\"Median:\", np.median(arr))\n",
        "print(\"Standard Deviation:\", np.std(arr))\n",
        "print(\"Variance:\", np.var(arr))\n",
        "print(\"Min:\", np.min(arr), \"Max:\", np.max(arr))\n",
        "print(\"Sum:\", np.sum(arr))"
      ],
      "metadata": {
        "colab": {
          "base_uri": "https://localhost:8080/"
        },
        "id": "qeRoCbkD6cQF",
        "outputId": "77fa7aab-c607-4791-8615-36bdd53e7c50"
      },
      "execution_count": null,
      "outputs": [
        {
          "output_type": "stream",
          "name": "stdout",
          "text": [
            "Mean: 50.0\n",
            "Median: 50.0\n",
            "Standard Deviation: 25.81988897471611\n",
            "Variance: 666.6666666666666\n",
            "Min: 10 Max: 90\n",
            "Sum: 450\n",
            "\n"
          ]
        }
      ]
    },
    {
      "cell_type": "markdown",
      "source": [
        "###Element-wise Operations"
      ],
      "metadata": {
        "id": "77F7I6yd656y"
      }
    },
    {
      "cell_type": "code",
      "source": [
        "print(\"Square of each element:\\n\", np.square(arr))\n",
        "print(\"Log of each element:\\n\", np.log(arr))"
      ],
      "metadata": {
        "colab": {
          "base_uri": "https://localhost:8080/"
        },
        "id": "S2KDz1xZ6iaL",
        "outputId": "0c872b25-9de8-46de-c0ed-4fff7743b523"
      },
      "execution_count": null,
      "outputs": [
        {
          "output_type": "stream",
          "name": "stdout",
          "text": [
            "Square of each element:\n",
            " [[ 100  400  900]\n",
            " [1600 2500 3600]\n",
            " [4900 6400 8100]]\n",
            "Log of each element:\n",
            " [[2.30258509 2.99573227 3.40119738]\n",
            " [3.68887945 3.91202301 4.09434456]\n",
            " [4.24849524 4.38202663 4.49980967]]\n",
            "\n"
          ]
        }
      ]
    },
    {
      "cell_type": "markdown",
      "source": [
        "###Indexing & Slicing"
      ],
      "metadata": {
        "id": "3IZr1gcz6s4I"
      }
    },
    {
      "cell_type": "code",
      "source": [
        "print(\"First row:\", arr[0])\n",
        "print(\"First column:\", arr[:, 0])\n",
        "print(\"Element at (1,2):\", arr[1, 2])\n",
        "print(\"Last row:\", arr[-1])"
      ],
      "metadata": {
        "colab": {
          "base_uri": "https://localhost:8080/"
        },
        "id": "6aj1oNQN6pvB",
        "outputId": "1190fdac-7763-44e6-a7af-c2dee2970aea"
      },
      "execution_count": null,
      "outputs": [
        {
          "output_type": "stream",
          "name": "stdout",
          "text": [
            "First row: [10 20 30]\n",
            "First column: [10 40 70]\n",
            "Element at (1,2): 60\n",
            "Last row: [70 80 90]\n"
          ]
        }
      ]
    },
    {
      "cell_type": "markdown",
      "source": [
        "##Mathematical operations on a NumPy array"
      ],
      "metadata": {
        "id": "nMoNS5zLHmfE"
      }
    },
    {
      "cell_type": "markdown",
      "source": [
        "###1. Basic Arithmetic Operations"
      ],
      "metadata": {
        "id": "e4RlVMZyH2wY"
      }
    },
    {
      "cell_type": "code",
      "source": [
        "a = np.array([1, 2, 3])\n",
        "b = np.array([4, 5, 6])\n",
        "\n",
        "print(a + b)  # Addition: [5 7 9]\n",
        "print(a - b)  # Subtraction: [-3 -3 -3]\n",
        "print(a * b)  # Multiplication: [4 10 18]\n",
        "print(a / b)  # Division: [0.25 0.4 0.5]\n",
        "print(a % b)  # Modulo: [1 2 3]\n",
        "print(a ** 2) # Power: [1 4 9]\n",
        "### print(np.add(a,b)) print(np.subtract(a,b)) print(np.multiply(a,b)) print(np.divide(a,b))"
      ],
      "metadata": {
        "colab": {
          "base_uri": "https://localhost:8080/"
        },
        "id": "wwc2ia03H8UA",
        "outputId": "74d7b024-d848-473e-9578-1e7c2dea0d96"
      },
      "execution_count": null,
      "outputs": [
        {
          "output_type": "stream",
          "name": "stdout",
          "text": [
            "[5 7 9]\n",
            "[-3 -3 -3]\n",
            "[ 4 10 18]\n",
            "[0.25 0.4  0.5 ]\n",
            "[1 2 3]\n",
            "[1 4 9]\n",
            "[5 7 9]\n"
          ]
        }
      ]
    },
    {
      "cell_type": "markdown",
      "source": [
        "###2. Aggregate Functions"
      ],
      "metadata": {
        "id": "ZmUaUn55IAgc"
      }
    },
    {
      "cell_type": "code",
      "source": [
        "arr = np.array([1, 2, 3, 4, 5])\n",
        "\n",
        "print(np.sum(arr))      # Sum: 15\n",
        "print(np.mean(arr))     # Mean: 3.0\n",
        "print(np.median(arr))   # Median: 3.0\n",
        "print(np.min(arr))      # Minimum: 1\n",
        "print(np.max(arr))      # Maximum: 5\n",
        "print(np.std(arr))      # Standard deviation\n",
        "print(np.var(arr))      # Variance"
      ],
      "metadata": {
        "id": "-7HzpDlpIMCx"
      },
      "execution_count": null,
      "outputs": []
    },
    {
      "cell_type": "markdown",
      "source": [
        "###3. Trigonometric Functions"
      ],
      "metadata": {
        "id": "ccP7ckiQIYaw"
      }
    },
    {
      "cell_type": "code",
      "source": [
        "angles = np.array([0, np.pi/2, np.pi])\n",
        "print(np.sin(angles))  # [0. 1. 0.]\n",
        "print(np.cos(angles))  # [1. 0. -1.]\n",
        "print(np.tan(angles))  # [0. 1. 0.]"
      ],
      "metadata": {
        "id": "eYhQef7iIZVe"
      },
      "execution_count": null,
      "outputs": []
    },
    {
      "cell_type": "markdown",
      "source": [
        "###4. Exponential and Logarithmic Functions"
      ],
      "metadata": {
        "id": "R8h4UfvGIeLX"
      }
    },
    {
      "cell_type": "code",
      "source": [
        "values = np.array([1, 2, 3])\n",
        "\n",
        "print(np.exp(values))  # Exponential: [2.718 7.389 20.08]\n",
        "print(np.log(values))  # Natural log: [0. 0.693 1.099]\n",
        "print(np.log10(values)) # Log base 10"
      ],
      "metadata": {
        "id": "wI4XbzVSIdEX"
      },
      "execution_count": null,
      "outputs": []
    },
    {
      "cell_type": "markdown",
      "source": [
        "###5. Linear Algebra Operations"
      ],
      "metadata": {
        "id": "xOwmqSHkInYh"
      }
    },
    {
      "cell_type": "code",
      "source": [
        "A = np.array([[1, 2], [3, 4]])\n",
        "B = np.array([[2, 0], [1, 2]])\n",
        "\n",
        "print(np.dot(A, B))  # Matrix multiplication\n",
        "print(np.linalg.det(A))  # Determinant of A\n",
        "print(np.linalg.inv(A))  # Inverse of A"
      ],
      "metadata": {
        "id": "Lm9v7ENCIuGZ"
      },
      "execution_count": null,
      "outputs": []
    },
    {
      "cell_type": "markdown",
      "source": [
        "##Array manipulation"
      ],
      "metadata": {
        "id": "N98s7SnHWN_2"
      }
    },
    {
      "cell_type": "markdown",
      "source": [
        "###1. Reshaping\n",
        "numpy.reshape(a, newshape): Changes the shape of an array.\n",
        "\n",
        "numpy.ravel(a): Flattens the array into 1D."
      ],
      "metadata": {
        "id": "aVNc5yo1WSCR"
      }
    },
    {
      "cell_type": "code",
      "source": [
        "arr = np.array([[1, 2, 3], [4, 5, 6]])\n",
        "print(arr.reshape(3, 2))  # Changes shape\n",
        "print(arr.ravel())        # Flattens to [1 2 3 4 5 6]"
      ],
      "metadata": {
        "colab": {
          "base_uri": "https://localhost:8080/"
        },
        "id": "ECcAnhHUW28j",
        "outputId": "d47f3d24-2d8c-44be-b3e0-fab0e6d73bc2"
      },
      "execution_count": null,
      "outputs": [
        {
          "output_type": "stream",
          "name": "stdout",
          "text": [
            "[[1 2]\n",
            " [3 4]\n",
            " [5 6]]\n",
            "[1 2 3 4 5 6]\n"
          ]
        }
      ]
    },
    {
      "cell_type": "markdown",
      "source": [
        "###2. Transposing\n",
        "numpy.transpose(a): Swaps rows and columns.\n",
        "\n",
        "a.T: Shortcut for transposing."
      ],
      "metadata": {
        "id": "gBnd25qAXP5f"
      }
    },
    {
      "cell_type": "code",
      "source": [
        "arr = np.array([[1, 2], [3, 4]])\n",
        "print(arr.T)  # [[1 3] [2 4]]"
      ],
      "metadata": {
        "id": "NZ1iVLglXiC_"
      },
      "execution_count": null,
      "outputs": []
    },
    {
      "cell_type": "markdown",
      "source": [
        "###3. Joining & Splitting\n",
        "numpy.concatenate((a1, a2), axis): Joins arrays.\n",
        "\n",
        "numpy.split(a, sections): Splits an array."
      ],
      "metadata": {
        "id": "ZqBbWeXVXqTD"
      }
    },
    {
      "cell_type": "code",
      "source": [
        "a = np.array([1, 2, 3])\n",
        "b = np.array([4, 5, 6])\n",
        "print(np.concatenate((a, b)))  # [1 2 3 4 5 6]\n",
        "print(np.split(a, 3))          # [array([1]), array([2]), array([3])]"
      ],
      "metadata": {
        "id": "eWNgBw1nXt_u"
      },
      "execution_count": null,
      "outputs": []
    },
    {
      "cell_type": "markdown",
      "source": [
        "###4. Adding & Removing Elements\n",
        "numpy.append(a, values): Adds elements to an array.\n",
        "\n",
        "numpy.delete(a, index): Removes elements."
      ],
      "metadata": {
        "id": "w4t0hCE9XxE1"
      }
    },
    {
      "cell_type": "code",
      "source": [
        "arr = np.array([1, 2, 3])\n",
        "print(np.append(arr, 4))   # [1 2 3 4]\n",
        "print(np.delete(arr, 1))   # [1 3]"
      ],
      "metadata": {
        "id": "ZaEPAox7X5uD"
      },
      "execution_count": null,
      "outputs": []
    },
    {
      "cell_type": "markdown",
      "source": [
        "###5. Changing Dimensions\n",
        "numpy.expand_dims(a, axis): Adds a new dimension.\n",
        "\n",
        "numpy.squeeze(a): Removes single-dimensional axes."
      ],
      "metadata": {
        "id": "waW5WPq1X93f"
      }
    },
    {
      "cell_type": "code",
      "source": [
        "arr = np.array([1, 2, 3])\n",
        "print(np.expand_dims(arr, axis=0))  # [[1 2 3]]\n",
        "squeezed = np.squeeze(arr)\n",
        "print(squeezed)"
      ],
      "metadata": {
        "colab": {
          "base_uri": "https://localhost:8080/"
        },
        "id": "VU3iR9YqYF-G",
        "outputId": "0dddc856-3923-404a-8d0e-6e325321ba5c"
      },
      "execution_count": null,
      "outputs": [
        {
          "output_type": "stream",
          "name": "stdout",
          "text": [
            "[[1 2 3]]\n",
            "[1 2 3]\n"
          ]
        }
      ]
    }
  ]
}